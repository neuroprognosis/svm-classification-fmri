{
  "cells": [
    {
      "cell_type": "code",
      "execution_count": null,
      "id": "0feb10d0",
      "metadata": {
        "id": "0feb10d0",
        "outputId": "056cf614-af01-4fa9-8877-cd204cd90a02"
      },
      "outputs": [
        {
          "name": "stderr",
          "output_type": "stream",
          "text": [
            "/home/karthik/anaconda3/lib/python3.8/site-packages/nilearn/datasets/__init__.py:93: FutureWarning: Fetchers from the nilearn.datasets module will be updated in version 0.9 to return python strings instead of bytes and Pandas dataframes instead of Numpy arrays.\n",
            "  warn(\"Fetchers from the nilearn.datasets module will be \"\n"
          ]
        }
      ],
      "source": [
        "import nibabel as nib\n",
        "import numpy as np\n",
        "from nilearn import plotting\n",
        "import os\n",
        "from nilearn.input_data import MultiNiftiMasker\n",
        "import nilearn"
      ]
    },
    {
      "cell_type": "code",
      "execution_count": null,
      "id": "20e5ff18",
      "metadata": {
        "id": "20e5ff18"
      },
      "outputs": [],
      "source": [
        "def visualize(path_AD_visualization,filename,thres):\n",
        "    plotting.plot_stat_map(path_AD_visualization,black_bg = False,display_mode='tiled' ,threshold=thres,draw_cross=False, annotate=True,cut_coords=(56,-72,-32),output_file=filename+'_56_-72_-32.png')\n",
        "    plotting.plot_stat_map(path_AD_visualization,black_bg = False,display_mode='tiled' ,threshold=thres,draw_cross=False, annotate=True,cut_coords=(28,-36,-12),output_file=filename+'_28_-36_-12.png')\n",
        "    plotting.plot_stat_map(path_AD_visualization,black_bg = False,display_mode='tiled' ,threshold=thres,draw_cross=False, annotate=True,cut_coords=(-4,-12,20),output_file=filename+'_-4_-12_20.png')\n",
        "    plotting.plot_stat_map(path_AD_visualization,black_bg = False,display_mode='tiled' ,threshold=thres,draw_cross=False, annotate=True,cut_coords=(-24,6,40),output_file=filename+'_-24_6_40.png')\n",
        "    plotting.plot_stat_map(path_AD_visualization,black_bg = False,display_mode='tiled' ,threshold=thres,draw_cross=False, annotate=True,cut_coords=(-42,42,60),output_file=filename+'_-42_42_60.png')\n",
        "    plotting.plot_stat_map(path_AD_visualization,black_bg = False,display_mode='tiled' ,threshold=thres,draw_cross=False, annotate=True,cut_coords=(0,-22,1),output_file=filename+'_0_-22_1.png')"
      ]
    },
    {
      "cell_type": "code",
      "execution_count": null,
      "id": "15d5dc70",
      "metadata": {
        "id": "15d5dc70"
      },
      "outputs": [],
      "source": [
        "\n",
        "directory = 'WithoutBootStrapVisualizationsmriMCI'\n",
        "parent_dir = os.getcwd()\n",
        "\n",
        "path = os.path.join(parent_dir, directory)\n",
        "os.mkdir(path)\n",
        "\n",
        "clf_withoutbootstrap_smri_MCI = '/home/karthik/Downloads/hydra/clf_MCI_weights_sMRI_single_subject_withoutBootstrap.nii'\n",
        "\n",
        "x = nilearn.image.smooth_img(clf_withoutbootstrap_smri_MCI, 0)\n",
        "visualize(x,path+'/clf_MCI_weights_sMRI_single_subject_withoutBootstrap',.000001)\n",
        "\n",
        "# plotting.plot_stat_map(plotting.plot_stat_map(nilearn.image.smooth_img(clf_withoutbootstrap_smri, 4)),black_bg = False,display_mode='tiled' ,threshold=.000001,draw_cross=False, annotate=True,cut_coords=(0,-22,1),output_file=path+'/clf_MCI_weights_sMRI_subject_withoutBootstrap'+'_0_-22_1.png')\n",
        "\n"
      ]
    },
    {
      "cell_type": "code",
      "execution_count": null,
      "id": "bd7b38b2",
      "metadata": {
        "id": "bd7b38b2"
      },
      "outputs": [],
      "source": [
        "\n",
        "directory = 'WithoutBootStrapVisualizationsmriAD'\n",
        "parent_dir = os.getcwd()\n",
        "\n",
        "path = os.path.join(parent_dir, directory)\n",
        "os.mkdir(path)\n",
        "\n",
        "clf_withoutbootstrap_smri_AD = '/home/karthik/Downloads/hydra/clf_AD_weights_sMRI_single_subject_withoutBootstrap.nii'\n",
        "\n",
        "x = nilearn.image.smooth_img(clf_withoutbootstrap_smri_AD, 0)\n",
        "visualize(x,path+'/clf_AD_weights_sMRI_single_subject_withoutBootstrap',.000001)\n",
        "\n",
        "# plotting.plot_stat_map(plotting.plot_stat_map(nilearn.image.smooth_img(clf_withoutbootstrap_smri, 4)),black_bg = False,display_mode='tiled' ,threshold=.000001,draw_cross=False, annotate=True,cut_coords=(0,-22,1),output_file=path+'/clf_MCI_weights_sMRI_subject_withoutBootstrap'+'_0_-22_1.png')\n",
        "\n"
      ]
    },
    {
      "cell_type": "code",
      "execution_count": null,
      "id": "a653607c",
      "metadata": {
        "id": "a653607c"
      },
      "outputs": [],
      "source": [
        "directory = 'WithBootStrapVisualizationsmriMCI'\n",
        "parent_dir = os.getcwd()\n",
        "\n",
        "path = os.path.join(parent_dir, directory)\n",
        "os.mkdir(path)\n",
        "clf_withbootstrap_smri_MCI = '/home/karthik/Downloads/clf_MCI_weights_sMRI_single_subject_withBootstrap.nii'\n",
        "\n",
        "x = nilearn.image.smooth_img(clf_withbootstrap_smri_MCI, 0)\n",
        "\n",
        "\n",
        "visualize(x,path+'/clf_MCI_weights_sMRI_single_subject_withBootstrap',0.01)"
      ]
    },
    {
      "cell_type": "code",
      "execution_count": null,
      "id": "c064c21c",
      "metadata": {
        "id": "c064c21c"
      },
      "outputs": [],
      "source": [
        "directory = 'WithBootStrapVisualizationsmriAD'\n",
        "parent_dir = os.getcwd()\n",
        "\n",
        "path = os.path.join(parent_dir, directory)\n",
        "os.mkdir(path)\n",
        "clf_withbootstrap_smri_AD = '/home/karthik/Downloads/clf_AD_weights_sMRI_single_subject_withBootstrap.nii'\n",
        "\n",
        "x = nilearn.image.smooth_img(clf_withbootstrap_smri_AD, 0)\n",
        "\n",
        "\n",
        "visualize(x,path+'/clf_AD_weights_sMRI_single_subject_withBootstrap',0.01)"
      ]
    },
    {
      "cell_type": "code",
      "execution_count": null,
      "id": "c8ad73fa",
      "metadata": {
        "id": "c8ad73fa"
      },
      "outputs": [],
      "source": [
        "directory = 'WithBootStrapVisualizationsmriMCI'\n",
        "parent_dir = os.getcwd()\n",
        "\n",
        "path = os.path.join(parent_dir, directory)\n",
        "os.mkdir(path)\n",
        "\n",
        "visualize('/home/karthik/Downloads/clf_MCI_weights_sMRI_single_subject_withBootstrap.nii',path+'/clf_MCI_weights_sMRI_single_subject_withBootstrap',.000001)"
      ]
    },
    {
      "cell_type": "code",
      "execution_count": null,
      "id": "6f609b7e",
      "metadata": {
        "id": "6f609b7e"
      },
      "outputs": [],
      "source": [
        "directory = 'WithBootStrapVisualizationsmriAD'\n",
        "parent_dir = os.getcwd()\n",
        "\n",
        "path = os.path.join(parent_dir, directory)\n",
        "os.mkdir(path)\n",
        "\n",
        "visualize('/home/karthik/Downloads/clf_AD_weights_sMRI_single_subject_withBootstrap.nii',path+'/clf_AD_weights_sMRI_single_subject_withBootstrap',.000001)"
      ]
    },
    {
      "cell_type": "code",
      "execution_count": null,
      "id": "f73b8935",
      "metadata": {
        "id": "f73b8935"
      },
      "outputs": [],
      "source": [
        "directory = 'WithBootStrapVisualizationfmriAD'\n",
        "parent_dir = os.getcwd()\n",
        "\n",
        "path = os.path.join(parent_dir, directory)\n",
        "os.mkdir(path)\n",
        "\n",
        "visualize('/home/karthik/Downloads/hydra/clf_AD_zmap.nii',path+'/clf_AD_withBootstrap',.001)"
      ]
    },
    {
      "cell_type": "code",
      "execution_count": null,
      "id": "5936ea94",
      "metadata": {
        "id": "5936ea94"
      },
      "outputs": [],
      "source": [
        "directory = 'WithBootStrapVisualizationfmriMCI'\n",
        "parent_dir = os.getcwd()\n",
        "\n",
        "path = os.path.join(parent_dir, directory)\n",
        "os.mkdir(path)\n",
        "\n",
        "visualize('/home/karthik/Downloads/hydra/clf_MCI_zmap.nii',path+'/clf_MCI_withBootstrap',.001)"
      ]
    },
    {
      "cell_type": "code",
      "execution_count": null,
      "id": "7dbf630f",
      "metadata": {
        "id": "7dbf630f"
      },
      "outputs": [],
      "source": [
        "directory = 'WithoutBootStrapVisualizationfmriAD'\n",
        "parent_dir = os.getcwd()\n",
        "\n",
        "path = os.path.join(parent_dir, directory)\n",
        "os.mkdir(path)\n",
        "\n",
        "visualize('/home/karthik/Downloads/hydra/fmri/clf_AD_weights_single_subject_withoutBootstrap.nii',path+'/clf_AD_withBootstrap',.001)"
      ]
    },
    {
      "cell_type": "code",
      "execution_count": null,
      "id": "b7f5f51f",
      "metadata": {
        "id": "b7f5f51f"
      },
      "outputs": [],
      "source": [
        "directory = 'WithoutBootStrapVisualizationfmriMCI'\n",
        "parent_dir = os.getcwd()\n",
        "\n",
        "path = os.path.join(parent_dir, directory)\n",
        "os.mkdir(path)\n",
        "\n",
        "visualize('/home/karthik/Downloads/hydra/clf_MCI_weights_single_subject_withoutBootstrap.nii',path+'/clf_MCI_withBootstrap',.001)"
      ]
    }
  ],
  "metadata": {
    "kernelspec": {
      "display_name": "Python 3",
      "language": "python",
      "name": "python3"
    },
    "language_info": {
      "codemirror_mode": {
        "name": "ipython",
        "version": 3
      },
      "file_extension": ".py",
      "mimetype": "text/x-python",
      "name": "python",
      "nbconvert_exporter": "python",
      "pygments_lexer": "ipython3",
      "version": "3.8.8"
    },
    "colab": {
      "provenance": []
    }
  },
  "nbformat": 4,
  "nbformat_minor": 5
}